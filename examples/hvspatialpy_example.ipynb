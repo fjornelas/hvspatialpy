{
 "cells": [
  {
   "cell_type": "markdown",
   "id": "c1c1d82b",
   "metadata": {},
   "source": [
    "# Example usage of hvspatialpy\n",
    "\n",
    "#### by Francisco Javier Ornelas"
   ]
  },
  {
   "cell_type": "code",
   "execution_count": 3,
   "id": "ee44cb3f",
   "metadata": {},
   "outputs": [],
   "source": [
    "# pip install -i https://test.pypi.org/simple/ hvspatialpy==1.2.0"
   ]
  },
  {
   "cell_type": "markdown",
   "id": "32deddf4",
   "metadata": {},
   "source": [
    "## Import Package"
   ]
  },
  {
   "cell_type": "code",
   "execution_count": 6,
   "id": "0d189d07",
   "metadata": {},
   "outputs": [],
   "source": [
    "import hvspatialpy as hvs\n",
    "# help(hvs)"
   ]
  },
  {
   "cell_type": "markdown",
   "id": "07317540",
   "metadata": {},
   "source": [
    "## Run cell below to use GUI\n",
    "\n",
    "Note: if using data from this example, we ask that you cite the data using the following citation\n",
    "\n",
    "`Ornelas, F., C. de la Torre, C. Nweke, T. Buckreis, P. Wang, B. Bradley, S. Brandenberg, J. Stewart (2023). \"Microtremor Horizontal-to-Vertical Spectral Ratio (mHVSR) Data Collection at California Downhole Vertical Array Sites, 2022\", in Microtremor Horizontal-to-Vertical Spectral Ratio (mHVSR) Site Characterization of California Vertical Arrays. DesignSafe-CI. https://doi.org/10.17603/ds2-by4m-ed67`\n",
    "\n",
    "Thank you"
   ]
  },
  {
   "cell_type": "code",
   "execution_count": 7,
   "id": "147181fe",
   "metadata": {
    "scrolled": false
   },
   "outputs": [
    {
     "data": {
      "application/vnd.jupyter.widget-view+json": {
       "model_id": "6d091b9649134a62abf70fb3b9d5fe66",
       "version_major": 2,
       "version_minor": 0
      },
      "text/plain": [
       "VBox(children=(HBox(children=(Text(value='C:/Users/Javier Ornelas/OneDrive/Documents/HVSRdata_Main/mHVSR Site …"
      ]
     },
     "metadata": {},
     "output_type": "display_data"
    },
    {
     "data": {
      "application/vnd.jupyter.widget-view+json": {
       "model_id": "46d236b6499f4d11826a95a0cde54cf9",
       "version_major": 2,
       "version_minor": 0
      },
      "text/plain": [
       "Output()"
      ]
     },
     "metadata": {},
     "output_type": "display_data"
    }
   ],
   "source": [
    "%matplotlib notebook\n",
    "gui = hvs.HVSpatialPYGui()"
   ]
  },
  {
   "cell_type": "code",
   "execution_count": null,
   "id": "0d6e4314",
   "metadata": {},
   "outputs": [],
   "source": []
  }
 ],
 "metadata": {
  "kernelspec": {
   "display_name": "Python 3 (ipykernel)",
   "language": "python",
   "name": "python3"
  },
  "language_info": {
   "codemirror_mode": {
    "name": "ipython",
    "version": 3
   },
   "file_extension": ".py",
   "mimetype": "text/x-python",
   "name": "python",
   "nbconvert_exporter": "python",
   "pygments_lexer": "ipython3",
   "version": "3.10.9"
  }
 },
 "nbformat": 4,
 "nbformat_minor": 5
}
