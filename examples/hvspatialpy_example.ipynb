{
 "cells": [
  {
   "cell_type": "markdown",
   "id": "d22e4913",
   "metadata": {},
   "source": [
    "# Example usage of hvspatialpy\n",
    "\n",
    "#### by Francisco Javier Ornelas"
   ]
  },
  {
   "cell_type": "code",
   "execution_count": 3,
   "id": "ee44cb3f",
   "metadata": {},
   "outputs": [],
   "source": [
    "# pip install hvspatialpy"
   ]
  },
  {
   "cell_type": "markdown",
   "id": "498c024b",
   "metadata": {},
   "source": [
    "## Import Package"
   ]
  },
  {
   "cell_type": "code",
   "execution_count": 4,
   "id": "0d189d07",
   "metadata": {},
   "outputs": [],
   "source": [
    "import hvspatialpy as hvs\n",
    "# help(hvs.HVSpatialPYGui)"
   ]
  },
  {
   "cell_type": "markdown",
   "id": "186b0802",
   "metadata": {},
   "source": [
    "## Run cell below to use GUI\n",
    "\n",
    "Note: if using data from this example, we ask that you cite the data using the following citation\n",
    "\n",
    "`Ornelas, F., C. de la Torre, C. Nweke, T. Buckreis, P. Wang, B. Bradley, S. Brandenberg, J. Stewart (2023). \"Microtremor Horizontal-to-Vertical Spectral Ratio (mHVSR) Data Collection at California Downhole Vertical Array Sites, 2022\", in Microtremor Horizontal-to-Vertical Spectral Ratio (mHVSR) Site Characterization of California Vertical Arrays. DesignSafe-CI. https://doi.org/10.17603/ds2-by4m-ed67`\n",
    "\n",
    "Thank you"
   ]
  },
  {
   "cell_type": "code",
   "execution_count": 2,
   "id": "147181fe",
   "metadata": {
    "scrolled": false
   },
   "outputs": [
    {
     "data": {
      "application/vnd.jupyter.widget-view+json": {
       "model_id": "cca9908b15764fdc87c9e13cb6f99eb8",
       "version_major": 2,
       "version_minor": 0
      },
      "text/plain": [
       "VBox(children=(HBox(children=(Text(value='C:/Users/Javier Ornelas/OneDrive/Documents/HVSRdata_Main/mHVSR Site …"
      ]
     },
     "metadata": {},
     "output_type": "display_data"
    },
    {
     "data": {
      "application/vnd.jupyter.widget-view+json": {
       "model_id": "2939824c36c2407bb249691990818a80",
       "version_major": 2,
       "version_minor": 0
      },
      "text/plain": [
       "Output()"
      ]
     },
     "metadata": {},
     "output_type": "display_data"
    }
   ],
   "source": [
    "%matplotlib notebook\n",
    "\n",
    "#Explanation of input parameters\n",
    "\n",
    "# Base Directory: The base directory where the site file and the assocaited test files for the site are located in your OS system.\n",
    "\n",
    "#Distance Path: The path where a distance .csv file is where all the distacnes for all tests are for a site, use this if auto_dist_calc_flag is not checked.\n",
    "\n",
    "#Location Path: The path where all the locations in a .csv file are for all tests in a site, use this if auto_dist_calc_flag is not checked.\n",
    "\n",
    "#Xml Folder Path: The path of where the xml folder is stored for a specific test, meaning a folder must exist within a test folder containing the .xml file to use this.\n",
    "\n",
    "#Unique Folder path: The path for a unique folder structure if it exist, check unique flag\n",
    "\n",
    "#Minimum Distance: The minimum distance to search for a peak, within the algorithm.\n",
    "\n",
    "#Frequency Interval: The frequency interval of interest, choose this based on what frequency interval you want to evalaute similarity.\n",
    "\n",
    "#site: The site where the tests were done\n",
    "\n",
    "#Reference test: The test which you want to compare similarity across the site.\n",
    "\n",
    "#Mean File name: The name of the mean HVSR curve file.\n",
    "\n",
    "#Freq. Trunc: The frequency which you want to truncate the HVSR mean curve.\n",
    "\n",
    "#Amp. Thresh: The ampltiude you want to consider when looking for peaks.\n",
    "\n",
    "#Corr Type: The correlation model you want to utilize.\n",
    "\n",
    "#Matching Thres: Used for the lcss model, to evalaute similarity between curves to perform algorithm.\n",
    "\n",
    "#Corr global: Used for dtw and lcss model, used to allow for a horizontal shift in the curves.\n",
    "\n",
    "#Sakoe Chiba Radius: The radius of the warping window.\n",
    "\n",
    "#Dist range list: The distances to consider when evalauting similarity between different distances.\n",
    "\n",
    "#Unique Flag: A flag to decide whether a unique folder structure is used.\n",
    "\n",
    "#Auto distance calculation flag: A flag to decide whether to automatically compute distances from reference, from .xml files.\n",
    "\n",
    "#Save direc: the directory where to save results.\n",
    "\n",
    "gui = hvs.HVSpatialPYGui()"
   ]
  },
  {
   "cell_type": "code",
   "execution_count": null,
   "id": "0d6e4314",
   "metadata": {},
   "outputs": [],
   "source": []
  }
 ],
 "metadata": {
  "kernelspec": {
   "display_name": "Python 3 (ipykernel)",
   "language": "python",
   "name": "python3"
  },
  "language_info": {
   "codemirror_mode": {
    "name": "ipython",
    "version": 3
   },
   "file_extension": ".py",
   "mimetype": "text/x-python",
   "name": "python",
   "nbconvert_exporter": "python",
   "pygments_lexer": "ipython3",
   "version": "3.10.9"
  }
 },
 "nbformat": 4,
 "nbformat_minor": 5
}
